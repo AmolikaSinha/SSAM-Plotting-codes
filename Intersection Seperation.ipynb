{
 "cells": [
  {
   "cell_type": "code",
   "execution_count": null,
   "metadata": {
    "collapsed": true
   },
   "outputs": [],
   "source": [
    "import pandas as pd"
   ]
  },
  {
   "cell_type": "code",
   "execution_count": null,
   "metadata": {},
   "outputs": [],
   "source": [
    "dict = {\n",
    "\"Roundabout\": [147, 152, 150, 151, 156, 157, 158, 159, 241, 227, 240, 239, 238, 226, 237, 236, 235, 225, 234, 233, 232, 224, 231, 230, 229, 223, 228, 242],\n",
    "\"DDI\": [343, 342, 281, 282, 280, 279, 221, 222, 220, 50001, 50002, 50003],\n",
    "\"Priority\": [138, 139, 145, 146, 143, 144, 136, 140, 141, 147, 148, 149, 142],\n",
    "\"Signalised\": [207, 206, 203, 204, 201, 200, 216, 209, 208, 213, 217, 214, 210, 212, 218, 215, 219, 211, 190, 195, 197, 198, 199, 196, 191, 192, 193, 194],\n",
    "\"Onramp\": [40003, 40004, 40005, 349, 348]\n",
    "}\n",
    "\n",
    "raw_data = pd.read_csv(\"C:/Users/navre/Dropbox\\Navreet PhD/4. Work/4. Vissim Modelling/5. Melbourne/Results/2. Safety Assessment/RAW.csv\")\n",
    "\n"
   ]
  },
  {
   "cell_type": "code",
   "execution_count": null,
   "metadata": {},
   "outputs": [],
   "source": [
    "for intersection in [\"Roundabout\", \"DDI\", \"Priority\", \"Signalised\", \"Onramp\"]:\n",
    "    filtered1 = raw_data.loc[raw_data[\"FirstLink\"].isin(dict[intersection])]\n",
    "    filtered2 = filtered1.loc[filtered1[\"SecondLink\"].isin(dict[intersection])]\n",
    "    \n",
    "    filtered2.to_csv(\"C:/Users/navre/Dropbox\\Navreet PhD/4. Work/4. Vissim Modelling/5. Melbourne/Results/2. Safety Assessment/\" + intersection + \".csv\", index=False)"
   ]
  },
  {
   "cell_type": "code",
   "execution_count": null,
   "metadata": {},
   "outputs": [],
   "source": []
  },
  {
   "cell_type": "code",
   "execution_count": null,
   "metadata": {},
   "outputs": [],
   "source": []
  },
  {
   "cell_type": "code",
   "execution_count": null,
   "metadata": {},
   "outputs": [],
   "source": []
  },
  {
   "cell_type": "code",
   "execution_count": null,
   "metadata": {
    "collapsed": true
   },
   "outputs": [],
   "source": []
  }
 ],
 "metadata": {
  "kernelspec": {
   "display_name": "Python 3",
   "language": "python",
   "name": "python3"
  },
  "language_info": {
   "codemirror_mode": {
    "name": "ipython",
    "version": 3
   },
   "file_extension": ".py",
   "mimetype": "text/x-python",
   "name": "python",
   "nbconvert_exporter": "python",
   "pygments_lexer": "ipython3",
   "version": "3.7.3"
  }
 },
 "nbformat": 4,
 "nbformat_minor": 2
}
