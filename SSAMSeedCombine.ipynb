{
 "cells": [
  {
   "cell_type": "code",
   "execution_count": 11,
   "metadata": {},
   "outputs": [],
   "source": [
    "import pandas as pd"
   ]
  },
  {
   "cell_type": "code",
   "execution_count": 40,
   "metadata": {},
   "outputs": [],
   "source": [
    "import pandas as pd\n",
    "import sklearn.datasets\n",
    "import matplotlib.pyplot as plt\n",
    "import numpy as np\n",
    "import seaborn as sns"
   ]
  },
  {
   "cell_type": "markdown",
   "metadata": {},
   "source": [
    "Importing data for seed1"
   ]
  },
  {
   "cell_type": "code",
   "execution_count": 12,
   "metadata": {},
   "outputs": [],
   "source": [
    "k0_s1 = pd.read_csv(\"C:/Users/z5130037/OneDrive - UNSW/CAVSeverityResults/D0_results/InputData/0%/TRJ_Files/S000001_001conflict.csv\", delimiter=',')\n",
    "k10_s1 = pd.read_csv(\"C:/Users/z5130037/OneDrive - UNSW/CAVSeverityResults/D0_results/InputData/10%/TRJ_Files/S000002_001conflict.csv\", delimiter=',')\n",
    "k20_s1 = pd.read_csv(\"C:/Users/z5130037/OneDrive - UNSW/CAVSeverityResults/D0_results/InputData/20%/TRJ_Files/S000003_001conflict.csv\", delimiter=',')\n",
    "k30_s1 = pd.read_csv(\"C:/Users/z5130037/OneDrive - UNSW/CAVSeverityResults/D0_results/InputData/30%/TRJ_Files/S000004_001conflict.csv\", delimiter=',')\n",
    "k40_s1 = pd.read_csv(\"C:/Users/z5130037/OneDrive - UNSW/CAVSeverityResults/D0_results/InputData/40%/TRJ_Files/S000005_001conflict.csv\", delimiter=',')\n",
    "k50_s1 = pd.read_csv(\"C:/Users/z5130037/OneDrive - UNSW/CAVSeverityResults/D0_results/InputData/50%/TRJ_Files/S000006_001.csv\", delimiter=',')\n",
    "k60_s1 = pd.read_csv(\"C:/Users/z5130037/OneDrive - UNSW/CAVSeverityResults/D0_results/InputData/60%/TRJ_Files/S000007_001.csv\", delimiter=',')\n",
    "k70_s1 = pd.read_csv(\"C:/Users/z5130037/OneDrive - UNSW/CAVSeverityResults/D0_results/InputData/70%/TRJ_Files/S000008_001.csv\", delimiter=',')\n",
    "k80_s1 = pd.read_csv(\"C:/Users/z5130037/OneDrive - UNSW/CAVSeverityResults/D0_results/InputData/80%/TRJ_Files/S000009_001.csv\", delimiter=',')\n",
    "k90_s1 = pd.read_csv(\"C:/Users/z5130037/OneDrive - UNSW/CAVSeverityResults/D0_results/InputData/90%/TRJ_Files/S000010_001.csv\", delimiter=',')\n",
    "k100_s1 = pd.read_csv(\"C:/Users/z5130037/OneDrive - UNSW/CAVSeverityResults/D0_results/InputData/100%/TRJ_Files/S000011_001.csv\", delimiter=',')\n"
   ]
  },
  {
   "cell_type": "markdown",
   "metadata": {},
   "source": [
    "%time finaldf = pd.DataFrame({'0%':k0_s1.DeltaS,'10%':k10_s1.DeltaS,'20%':k20_s1.DeltaS,'30%':k30_s1.DeltaS,'40%':k40_s1.DeltaS,'50%':k50_s1.DeltaS,'60%':k60_s1.DeltaS,'70%':k70_s1.DeltaS,'80%':k80_s1.DeltaS,'90%':k90_s1.DeltaS,'100%':k100_s1.DeltaS})\n",
    "%time finaldf.to_csv(r\"C:/Users/z5130037/OneDrive - UNSW/CAVSeverityResults/D0_results/InputData/DeltaS_Seed1.csv\")\n"
   ]
  },
  {
   "cell_type": "markdown",
   "metadata": {},
   "source": [
    "Importing data for seed2"
   ]
  },
  {
   "cell_type": "code",
   "execution_count": null,
   "metadata": {},
   "outputs": [],
   "source": [
    "import pandas as pd\n",
    "k0_s2 = pd.read_csv(\"C:/Users/z5130037/OneDrive - UNSW/CAVSeverityResults/D0_results/InputData/0%/TRJ_Files/S000001_002conflict.csv\", delimiter=',')\n",
    "k10_s2 = pd.read_csv(\"C:/Users/z5130037/OneDrive - UNSW/CAVSeverityResults/D0_results/InputData/10%/TRJ_Files/S000002_002conflict.csv\", delimiter=',')\n",
    "k20_s2 = pd.read_csv(\"C:/Users/z5130037/OneDrive - UNSW/CAVSeverityResults/D0_results/InputData/20%/TRJ_Files/S000003_002conflict.csv\", delimiter=',')\n",
    "k30_s2 = pd.read_csv(\"C:/Users/z5130037/OneDrive - UNSW/CAVSeverityResults/D0_results/InputData/30%/TRJ_Files/S000004_002conflict.csv\", delimiter=',')\n",
    "k40_s2 = pd.read_csv(\"C:/Users/z5130037/OneDrive - UNSW/CAVSeverityResults/D0_results/InputData/40%/TRJ_Files/S000005_002conflict.csv\", delimiter=',')\n",
    "k50_s2 = pd.read_csv(\"C:/Users/z5130037/OneDrive - UNSW/CAVSeverityResults/D0_results/InputData/50%/TRJ_Files/S000006_002.csv\", delimiter=',')\n",
    "k60_s2 = pd.read_csv(\"C:/Users/z5130037/OneDrive - UNSW/CAVSeverityResults/D0_results/InputData/60%/TRJ_Files/S000007_002.csv\", delimiter=',')\n",
    "k70_s2 = pd.read_csv(\"C:/Users/z5130037/OneDrive - UNSW/CAVSeverityResults/D0_results/InputData/70%/TRJ_Files/S000008_002.csv\", delimiter=',')\n",
    "k80_s2 = pd.read_csv(\"C:/Users/z5130037/OneDrive - UNSW/CAVSeverityResults/D0_results/InputData/80%/TRJ_Files/S000009_002.csv\", delimiter=',')\n",
    "k90_s2 = pd.read_csv(\"C:/Users/z5130037/OneDrive - UNSW/CAVSeverityResults/D0_results/InputData/90%/TRJ_Files/S000010_002.csv\", delimiter=',')\n",
    "k100_s2 = pd.read_csv(\"C:/Users/z5130037/OneDrive - UNSW/CAVSeverityResults/D0_results/InputData/100%/TRJ_Files/S000011_002.csv\", delimiter=',')\n"
   ]
  },
  {
   "cell_type": "markdown",
   "metadata": {},
   "source": [
    "%time finaldf = pd.DataFrame({'0%':k0_s2.DeltaS,'10%':k10_s2.DeltaS,'20%':k20_s2.DeltaS,'30%':k30_s2.DeltaS,'40%':k40_s2.DeltaS,'50%':k50_s2.DeltaS,'60%':k60_s2.DeltaS,'70%':k70_s2.DeltaS,'80%':k80_s2.DeltaS,'90%':k90_s2.DeltaS,'100%':k100_s2.DeltaS})\n",
    "%time finaldf.to_csv(r\"C:/Users/z5130037/OneDrive - UNSW/CAVSeverityResults/D0_results/InputData/DeltaS_Seed2.csv\")\n"
   ]
  },
  {
   "cell_type": "markdown",
   "metadata": {},
   "source": [
    "Importing data for seed3"
   ]
  },
  {
   "cell_type": "code",
   "execution_count": 14,
   "metadata": {},
   "outputs": [],
   "source": [
    "import pandas as pd\n",
    "k0_s3 = pd.read_csv(\"C:/Users/z5130037/OneDrive - UNSW/CAVSeverityResults/D0_results/InputData/0%/TRJ_Files/S000001_003conflict.csv\", delimiter=',')\n",
    "k10_s3 = pd.read_csv(\"C:/Users/z5130037/OneDrive - UNSW/CAVSeverityResults/D0_results/InputData/10%/TRJ_Files/S000002_003conflict.csv\", delimiter=',')\n",
    "k20_s3 = pd.read_csv(\"C:/Users/z5130037/OneDrive - UNSW/CAVSeverityResults/D0_results/InputData/20%/TRJ_Files/S000003_003conflict.csv\", delimiter=',')\n",
    "k30_s3 = pd.read_csv(\"C:/Users/z5130037/OneDrive - UNSW/CAVSeverityResults/D0_results/InputData/30%/TRJ_Files/S000004_003.csv\", delimiter=',')\n",
    "k40_s3 = pd.read_csv(\"C:/Users/z5130037/OneDrive - UNSW/CAVSeverityResults/D0_results/InputData/40%/TRJ_Files/S000005_003conflict.csv\", delimiter=',')\n",
    "k50_s3 = pd.read_csv(\"C:/Users/z5130037/OneDrive - UNSW/CAVSeverityResults/D0_results/InputData/50%/TRJ_Files/S000006_003.csv\", delimiter=',')\n",
    "k60_s3 = pd.read_csv(\"C:/Users/z5130037/OneDrive - UNSW/CAVSeverityResults/D0_results/InputData/60%/TRJ_Files/S000007_003.csv\", delimiter=',')\n",
    "k70_s3 = pd.read_csv(\"C:/Users/z5130037/OneDrive - UNSW/CAVSeverityResults/D0_results/InputData/70%/TRJ_Files/S000008_003.csv\", delimiter=',')\n",
    "k80_s3 = pd.read_csv(\"C:/Users/z5130037/OneDrive - UNSW/CAVSeverityResults/D0_results/InputData/80%/TRJ_Files/S000009_003.csv\", delimiter=',')\n",
    "k90_s3 = pd.read_csv(\"C:/Users/z5130037/OneDrive - UNSW/CAVSeverityResults/D0_results/InputData/90%/TRJ_Files/S000010_003.csv\", delimiter=',')\n",
    "k100_s3 = pd.read_csv(\"C:/Users/z5130037/OneDrive - UNSW/CAVSeverityResults/D0_results/InputData/100%/TRJ_Files/S000011_003.csv\", delimiter=',')\n"
   ]
  },
  {
   "cell_type": "markdown",
   "metadata": {},
   "source": [
    "%time finaldf = pd.DataFrame({'0%':k0_s3.DeltaS,'10%':k10_s3.DeltaS,'20%':k20_s3.DeltaS,'30%':k30_s3.DeltaS,'40%':k40_s3.DeltaS,'50%':k50_s3.DeltaS,'60%':k630_s3.DeltaS,'70%':k70_s3.DeltaS,'80%':k80_s3.DeltaS,'90%':k90_s3.DeltaS,'100%':k100_s3.DeltaS})\n",
    "%time finaldf.to_csv(r\"C:/Users/z5130037/OneDrive - UNSW/CAVSeverityResults/D0_results/InputData/DeltaS_Seed3.csv\")\n"
   ]
  },
  {
   "cell_type": "markdown",
   "metadata": {},
   "source": [
    "# Next section is for combining/ transposing the DeltaS values"
   ]
  },
  {
   "cell_type": "code",
   "execution_count": null,
   "metadata": {},
   "outputs": [],
   "source": [
    "%time finaldf1 = pd.DataFrame({'0%':k0_s1.DeltaS,'10%':k10_s1.DeltaS,'20%':k20_s1.DeltaS,'30%':k30_s1.DeltaS,'40%':k40_s1.DeltaS,'50%':k50_s1.DeltaS,'60%':k60_s1.DeltaS,'70%':k70_s1.DeltaS,'80%':k80_s1.DeltaS,'90%':k90_s1.DeltaS,'100%':k100_s1.DeltaS})\n",
    "%time finaldf1.to_csv(r\"C:/Users/z5130037/OneDrive - UNSW/CAVSeverityResults/D0_results/InputData/SSAMConsolidated/DeltaS_Seed1.csv\")\n",
    "\n",
    "%time finaldf2 = pd.DataFrame({'0%':k0_s2.DeltaS,'10%':k10_s2.DeltaS,'20%':k20_s2.DeltaS,'30%':k30_s2.DeltaS,'40%':k40_s2.DeltaS,'50%':k50_s2.DeltaS,'60%':k60_s2.DeltaS,'70%':k70_s2.DeltaS,'80%':k80_s2.DeltaS,'90%':k90_s2.DeltaS,'100%':k100_s2.DeltaS})\n",
    "%time finaldf2.to_csv(r\"C:/Users/z5130037/OneDrive - UNSW/CAVSeverityResults/D0_results/InputData/SSAMConsolidated/DeltaS_Seed2.csv\")\n",
    "\n",
    "%time finaldf3 = pd.DataFrame({'0%':k0_s3.DeltaS,'10%':k10_s3.DeltaS,'20%':k20_s3.DeltaS,'30%':k30_s3.DeltaS,'40%':k40_s3.DeltaS,'50%':k50_s3.DeltaS,'60%':k60_s3.DeltaS,'70%':k70_s3.DeltaS,'80%':k80_s3.DeltaS,'90%':k90_s3.DeltaS,'100%':k100_s3.DeltaS})\n",
    "%time finaldf3.to_csv(r\"C:/Users/z5130037/OneDrive - UNSW/CAVSeverityResults/D0_results/InputData/SSAMConsolidated/DeltaS_Seed3.csv\")\n"
   ]
  },
  {
   "cell_type": "markdown",
   "metadata": {},
   "source": [
    "# Next section is for combining/ transposing the TTC values"
   ]
  },
  {
   "cell_type": "code",
   "execution_count": 15,
   "metadata": {},
   "outputs": [
    {
     "name": "stdout",
     "output_type": "stream",
     "text": [
      "Wall time: 99.9 ms\n",
      "Wall time: 182 ms\n",
      "Wall time: 5 ms\n",
      "Wall time: 81 ms\n",
      "Wall time: 6 ms\n",
      "Wall time: 65 ms\n"
     ]
    }
   ],
   "source": [
    "%time finaldf1 = pd.DataFrame({'0%':k0_s1.TTC,'10%':k10_s1.TTC,'20%':k20_s1.TTC,'30%':k30_s1.TTC,'40%':k40_s1.TTC,'50%':k50_s1.TTC,'60%':k60_s1.TTC,'70%':k70_s1.TTC,'80%':k80_s1.TTC,'90%':k90_s1.TTC,'100%':k100_s1.TTC})\n",
    "%time finaldf1.to_csv(r\"C:/Users/z5130037/OneDrive - UNSW/CAVSeverityResults/D0_results/InputData/SSAMConsolidated/TTC_Seed1.csv\")\n",
    "\n",
    "%time finaldf2 = pd.DataFrame({'0%':k0_s2.TTC,'10%':k10_s2.TTC,'20%':k20_s2.TTC,'30%':k30_s2.TTC,'40%':k40_s2.TTC,'50%':k50_s2.TTC,'60%':k60_s2.TTC,'70%':k70_s2.TTC,'80%':k80_s2.TTC,'90%':k90_s2.TTC,'100%':k100_s2.TTC})\n",
    "%time finaldf2.to_csv(r\"C:/Users/z5130037/OneDrive - UNSW/CAVSeverityResults/D0_results/InputData/SSAMConsolidated/TTC_Seed2.csv\")\n",
    "\n",
    "%time finaldf3 = pd.DataFrame({'0%':k0_s3.TTC,'10%':k10_s3.TTC,'20%':k20_s3.TTC,'30%':k30_s3.TTC,'40%':k40_s3.TTC,'50%':k50_s3.TTC,'60%':k60_s3.TTC,'70%':k70_s3.TTC,'80%':k80_s3.TTC,'90%':k90_s3.TTC,'100%':k100_s3.TTC})\n",
    "%time finaldf3.to_csv(r\"C:/Users/z5130037/OneDrive - UNSW/CAVSeverityResults/D0_results/InputData/SSAMConsolidated/TTC_Seed3.csv\")\n"
   ]
  },
  {
   "cell_type": "markdown",
   "metadata": {},
   "source": [
    "# Next section is for combining/ transposing the PET values"
   ]
  },
  {
   "cell_type": "code",
   "execution_count": 16,
   "metadata": {},
   "outputs": [
    {
     "name": "stdout",
     "output_type": "stream",
     "text": [
      "Wall time: 5.01 ms\n",
      "Wall time: 70.9 ms\n",
      "Wall time: 5 ms\n",
      "Wall time: 63 ms\n",
      "Wall time: 5 ms\n",
      "Wall time: 68.9 ms\n"
     ]
    }
   ],
   "source": [
    "%time finaldf1 = pd.DataFrame({'0%':k0_s1.PET,'10%':k10_s1.PET,'20%':k20_s1.PET,'30%':k30_s1.PET,'40%':k40_s1.PET,'50%':k50_s1.PET,'60%':k60_s1.PET,'70%':k70_s1.PET,'80%':k80_s1.PET,'90%':k90_s1.PET,'100%':k100_s1.PET})\n",
    "%time finaldf1.to_csv(r\"C:/Users/z5130037/OneDrive - UNSW/CAVSeverityResults/D0_results/InputData/SSAMConsolidated/PET_Seed1.csv\")\n",
    "\n",
    "%time finaldf2 = pd.DataFrame({'0%':k0_s2.PET,'10%':k10_s2.PET,'20%':k20_s2.PET,'30%':k30_s2.PET,'40%':k40_s2.PET,'50%':k50_s2.PET,'60%':k60_s2.PET,'70%':k70_s2.PET,'80%':k80_s2.PET,'90%':k90_s2.PET,'100%':k100_s2.PET})\n",
    "%time finaldf2.to_csv(r\"C:/Users/z5130037/OneDrive - UNSW/CAVSeverityResults/D0_results/InputData/SSAMConsolidated/PET_Seed2.csv\")\n",
    "\n",
    "%time finaldf3 = pd.DataFrame({'0%':k0_s3.PET,'10%':k10_s3.PET,'20%':k20_s3.PET,'30%':k30_s3.PET,'40%':k40_s3.PET,'50%':k50_s3.PET,'60%':k60_s3.PET,'70%':k70_s3.PET,'80%':k80_s3.PET,'90%':k90_s3.PET,'100%':k100_s3.PET})\n",
    "%time finaldf3.to_csv(r\"C:/Users/z5130037/OneDrive - UNSW/CAVSeverityResults/D0_results/InputData/SSAMConsolidated/PET_Seed3.csv\")\n"
   ]
  },
  {
   "cell_type": "markdown",
   "metadata": {},
   "source": [
    "# Next section is for combining/ transposing the MaxS values"
   ]
  },
  {
   "cell_type": "code",
   "execution_count": 17,
   "metadata": {},
   "outputs": [
    {
     "name": "stdout",
     "output_type": "stream",
     "text": [
      "Wall time: 6.99 ms\n",
      "Wall time: 114 ms\n",
      "Wall time: 7 ms\n",
      "Wall time: 87.9 ms\n",
      "Wall time: 7 ms\n",
      "Wall time: 133 ms\n"
     ]
    }
   ],
   "source": [
    "%time finaldf1 = pd.DataFrame({'0%':k0_s1.MaxS,'10%':k10_s1.MaxS,'20%':k20_s1.MaxS,'30%':k30_s1.MaxS,'40%':k40_s1.MaxS,'50%':k50_s1.MaxS,'60%':k60_s1.MaxS,'70%':k70_s1.MaxS,'80%':k80_s1.MaxS,'90%':k90_s1.MaxS,'100%':k100_s1.MaxS})\n",
    "%time finaldf1.to_csv(r\"C:/Users/z5130037/OneDrive - UNSW/CAVSeverityResults/D0_results/InputData/SSAMConsolidated/MaxS_Seed1.csv\")\n",
    "\n",
    "%time finaldf2 = pd.DataFrame({'0%':k0_s2.MaxS,'10%':k10_s2.MaxS,'20%':k20_s2.MaxS,'30%':k30_s2.MaxS,'40%':k40_s2.MaxS,'50%':k50_s2.MaxS,'60%':k60_s2.MaxS,'70%':k70_s2.MaxS,'80%':k80_s2.MaxS,'90%':k90_s2.MaxS,'100%':k100_s2.MaxS})\n",
    "%time finaldf2.to_csv(r\"C:/Users/z5130037/OneDrive - UNSW/CAVSeverityResults/D0_results/InputData/SSAMConsolidated/MaxS_Seed2.csv\")\n",
    "\n",
    "%time finaldf3 = pd.DataFrame({'0%':k0_s3.MaxS,'10%':k10_s3.MaxS,'20%':k20_s3.MaxS,'30%':k30_s3.MaxS,'40%':k40_s3.MaxS,'50%':k50_s3.MaxS,'60%':k60_s3.MaxS,'70%':k70_s3.MaxS,'80%':k80_s3.MaxS,'90%':k90_s3.MaxS,'100%':k100_s3.MaxS})\n",
    "%time finaldf3.to_csv(r\"C:/Users/z5130037/OneDrive - UNSW/CAVSeverityResults/D0_results/InputData/SSAMConsolidated/MaxS_Seed3.csv\")\n"
   ]
  },
  {
   "cell_type": "markdown",
   "metadata": {},
   "source": [
    "# PART 2 :PET = 0"
   ]
  },
  {
   "cell_type": "code",
   "execution_count": 86,
   "metadata": {},
   "outputs": [],
   "source": [
    "import pandas as pd\n",
    "k0_s1 = pd.read_csv(\"C:/Users/z5130037/OneDrive - UNSW/CAVSeverityResults/D0_results/InputData/0%/TRJ_Files/S000001_001conflict.csv\", delimiter=',')\n",
    "k10_s1 = pd.read_csv(\"C:/Users/z5130037/OneDrive - UNSW/CAVSeverityResults/D0_results/InputData/10%/TRJ_Files/S000002_001conflict.csv\", delimiter=',')\n",
    "k20_s1 = pd.read_csv(\"C:/Users/z5130037/OneDrive - UNSW/CAVSeverityResults/D0_results/InputData/20%/TRJ_Files/S000003_001conflict.csv\", delimiter=',')\n",
    "k30_s1 = pd.read_csv(\"C:/Users/z5130037/OneDrive - UNSW/CAVSeverityResults/D0_results/InputData/30%/TRJ_Files/S000004_001conflict.csv\", delimiter=',')\n",
    "k40_s1 = pd.read_csv(\"C:/Users/z5130037/OneDrive - UNSW/CAVSeverityResults/D0_results/InputData/40%/TRJ_Files/S000005_001conflict.csv\", delimiter=',')\n",
    "k50_s1 = pd.read_csv(\"C:/Users/z5130037/OneDrive - UNSW/CAVSeverityResults/D0_results/InputData/50%/TRJ_Files/S000006_001.csv\", delimiter=',')\n",
    "k60_s1 = pd.read_csv(\"C:/Users/z5130037/OneDrive - UNSW/CAVSeverityResults/D0_results/InputData/60%/TRJ_Files/S000007_001.csv\", delimiter=',')\n",
    "k70_s1 = pd.read_csv(\"C:/Users/z5130037/OneDrive - UNSW/CAVSeverityResults/D0_results/InputData/70%/TRJ_Files/S000008_001.csv\", delimiter=',')\n",
    "k80_s1 = pd.read_csv(\"C:/Users/z5130037/OneDrive - UNSW/CAVSeverityResults/D0_results/InputData/80%/TRJ_Files/S000009_001.csv\", delimiter=',')\n",
    "k90_s1 = pd.read_csv(\"C:/Users/z5130037/OneDrive - UNSW/CAVSeverityResults/D0_results/InputData/90%/TRJ_Files/S000010_001.csv\", delimiter=',')\n",
    "k100_s1 = pd.read_csv(\"C:/Users/z5130037/OneDrive - UNSW/CAVSeverityResults/D0_results/InputData/100%/TRJ_Files/S000011_001.csv\", delimiter=',')\n"
   ]
  },
  {
   "cell_type": "code",
   "execution_count": 87,
   "metadata": {},
   "outputs": [],
   "source": [
    "df0_s1 = k0_s1.loc[k0_s1['PET'] == 0]\n",
    "df10_s1 = k10_s1.loc[k10_s1['PET'] == 0]\n",
    "df20_s1 = k20_s1.loc[k20_s1['PET'] == 0]\n",
    "df30_s1 = k30_s1.loc[k30_s1['PET'] == 0]\n",
    "df40_s1 = k40_s1.loc[k40_s1['PET'] == 0]\n",
    "df50_s1 = k50_s1.loc[k50_s1['PET'] == 0]\n",
    "df60_s1 = k60_s1.loc[k60_s1['PET'] == 0] \n",
    "df70_s1 = k70_s1.loc[k70_s1['PET'] == 0]\n",
    "df80_s1 = k80_s1.loc[k80_s1['PET'] == 0]\n",
    "df90_s1 = k90_s1.loc[k90_s1['PET'] == 0]\n",
    "df100_s1 = k100_s1.loc[k100_s1['PET'] == 0]"
   ]
  },
  {
   "cell_type": "code",
   "execution_count": 88,
   "metadata": {},
   "outputs": [
    {
     "data": {
      "image/png": "[encoded data removed]",
      "text/plain": [
       "<Figure size 288x288 with 1 Axes>"
      ]
     },
     "metadata": {
      "needs_background": "light"
     },
     "output_type": "display_data"
    },
    {
     "data": {
      "text/plain": [
       "<Figure size 432x288 with 0 Axes>"
      ]
     },
     "metadata": {},
     "output_type": "display_data"
    }
   ],
   "source": [
    "#THIS IS FOR SEED1 & MaxS for TTC = 0\n",
    "#https://towardsdatascience.com/a-step-by-step-guide-for-creating-advanced-python-data-visualizations-with-seaborn-matplotlib-1579d6a1a7d0\n",
    "fig, ax = plt.subplots(figsize=(4,4))\n",
    "sns.kdeplot(df0_s1[\"MaxS\"],clip=(0,100), gridsize = 200, cut =0)\n",
    "sns.kdeplot(df10_s1[\"MaxS\"],clip=(0,100), gridsize = 200, cut =0)\n",
    "sns.kdeplot(df20_s1[\"MaxS\"],clip=(0,100), gridsize = 200, cut =0)\n",
    "sns.kdeplot(df30_s1[\"MaxS\"],clip=(0,100), gridsize = 200, cut =0)\n",
    "sns.kdeplot(df40_s1[\"MaxS\"],clip=(0,100), gridsize = 200, cut =0)\n",
    "sns.kdeplot(df50_s1[\"MaxS\"],clip=(0,100), gridsize = 200, cut =0)\n",
    "sns.kdeplot(df60_s1[\"MaxS\"],clip=(0,100), gridsize = 200, cut =0)\n",
    "sns.kdeplot(df70_s1[\"MaxS\"],clip=(0,100), gridsize = 200, cut =0)\n",
    "sns.kdeplot(df80_s1[\"MaxS\"],clip=(0,100), gridsize = 200, cut =0)\n",
    "sns.kdeplot(df90_s1[\"MaxS\"],clip=(0,100), gridsize = 200, cut =0)\n",
    "sns.kdeplot(df100_s1[\"MaxS\"],clip=(0,100), gridsize = 200, cut =0)\n",
    "\n",
    "\n",
    "#sns.kdeplot(df0_s1[\"MaxS\"],clip=(0,100), gridsize = 200, cut =0, shade=True)\n",
    "#sns.kdeplot(df10_s1[\"MaxS\"],clip=(0,100), gridsize = 200, cut =0, shade=True)  \n",
    "\n",
    "#ax.legend(['0% Penetration','10% Penetration','20% Penetration','30% Penetration','40% Penetration','50% Penetration','60% Penetration','70% Penetration','80% Penetration','90% Penetration','100% Penetration'], facecolor='w')\n",
    "ax.legend(['0%','10%','20%','30%','40%','50%','60%','70%','80%','90%','100%'], facecolor='w')\n",
    "\n",
    "#ax.legend(['0%','100%'], facecolor='w')\n",
    "\n",
    "#ax.set_title('Kernel Densty estimation of DeltaS Seed1')\n",
    "ax.set_title('Seed1')\n",
    "ax.set_xlabel('MaxS')    \n",
    "plt.show()\n",
    "ax.set_title('Kernel Densty estimation of DeltaS Seed1')\n",
    "plt.savefig('C:/Users/z5130037/OneDrive - UNSW/CAVSeverityResults/D0_results/InputData/DeltaS_Seed1N.png')"
   ]
  },
  {
   "cell_type": "code",
   "execution_count": 95,
   "metadata": {},
   "outputs": [
    {
     "data": {
      "image/png": "[encoded data removed]",
      "text/plain": [
       "<Figure size 288x288 with 1 Axes>"
      ]
     },
     "metadata": {
      "needs_background": "light"
     },
     "output_type": "display_data"
    },
    {
     "data": {
      "text/plain": [
       "Text(0.5, 1, 'Kernel Densty estimation of DeltaS Seed1')"
      ]
     },
     "execution_count": 95,
     "metadata": {},
     "output_type": "execute_result"
    }
   ],
   "source": [
    "#THIS IS FOR SEED1 & DeltaS for TTC = 0\n",
    "#https://towardsdatascience.com/a-step-by-step-guide-for-creating-advanced-python-data-visualizations-with-seaborn-matplotlib-1579d6a1a7d0\n",
    "fig, ax = plt.subplots(figsize=(4,4))\n",
    "#sns.kdeplot(df0_s1[\"DeltaS\"],clip=(0,100), gridsize = 200, cut =0)\n",
    "#sns.kdeplot(df10_s1[\"DeltaS\"],clip=(0,100), gridsize = 200, cut =0)\n",
    "#sns.kdeplot(df20_s1[\"DeltaS\"],clip=(0,100), gridsize = 200, cut =0)\n",
    "#sns.kdeplot(df30_s1[\"DeltaS\"],clip=(0,100), gridsize = 200, cut =0)\n",
    "#sns.kdeplot(df40_s1[\"DeltaS\"],clip=(0,100), gridsize = 200, cut =0)\n",
    "#sns.kdeplot(df50_s1[\"DeltaS\"],clip=(0,100), gridsize = 200, cut =0)\n",
    "#sns.kdeplot(df60_s1[\"DeltaS\"],clip=(0,100), gridsize = 200, cut =0)\n",
    "#sns.kdeplot(df70_s1[\"DeltaS\"],clip=(0,100), gridsize = 200, cut =0)\n",
    "#sns.kdeplot(df80_s1[\"DeltaS\"],clip=(0,100), gridsize = 200, cut =0)\n",
    "#sns.kdeplot(df90_s1[\"DeltaS\"],clip=(0,100), gridsize = 200, cut =0)\n",
    "#sns.kdeplot(df100_s1[\"DeltaS\"],clip=(0,100), gridsize = 200, cut =0)\n",
    "\n",
    "\n",
    "sns.kdeplot(df0_s1[\"DeltaS\"],clip=(0,100), gridsize = 200, cut =0, shade=True)\n",
    "sns.kdeplot(df10_s1[\"DeltaS\"],clip=(0,100), gridsize = 200, cut =0, shade=True)  \n",
    "\n",
    "#ax.legend(['0% Penetration','10% Penetration','20% Penetration','30% Penetration','40% Penetration','50% Penetration','60% Penetration','70% Penetration','80% Penetration','90% Penetration','100% Penetration'], facecolor='w')\n",
    "#ax.legend(['0%','10%','20%','30%','40%','50%','60%','70%','80%','90%','100%'], facecolor='w')\n",
    "\n",
    "ax.legend(['0%','100%'], facecolor='w')\n",
    "\n",
    "#ax.set_title('Kernel Densty estimation of DeltaS Seed1')\n",
    "ax.set_title('Seed1')\n",
    "ax.set_xlabel('DeltaS')    \n",
    "plt.show()\n",
    "ax.set_title('Kernel Densty estimation of DeltaS Seed1')\n",
    "#plt.savefig('C:/Users/z5130037/OneDrive - UNSW/CAVSeverityResults/D0_results/InputData/DeltaS_Seed1N.png')"
   ]
  },
  {
   "cell_type": "code",
   "execution_count": 76,
   "metadata": {},
   "outputs": [
    {
     "data": {
      "text/plain": [
       "<matplotlib.legend.Legend at 0x1c9a34e6ba8>"
      ]
     },
     "execution_count": 76,
     "metadata": {},
     "output_type": "execute_result"
    },
    {
     "data": {
      "image/png": "[encoded data removed]",
      "text/plain": [
       "<Figure size 288x288 with 1 Axes>"
      ]
     },
     "metadata": {
      "needs_background": "light"
     },
     "output_type": "display_data"
    }
   ],
   "source": [
    "#IGNORE : Just for test-trial purposes\n",
    "fig, ax = plt.subplots(figsize=(4,4))\n",
    "sns.kdeplot(df0_s1[\"MaxS\"],clip=(0,100), gridsize = 200, cut =0)\n",
    "sns.kdeplot(df10_s1[\"MaxS\"],clip=(0,100), gridsize = 200, cut =0)  \n",
    "sns.kdeplot(df50_s1[\"MaxS\"],clip=(0,100), gridsize = 200, cut =0)  \n",
    "\n",
    "ax.legend(['0%','50%','100%'], facecolor='w')\n"
   ]
  },
  {
   "cell_type": "code",
   "execution_count": 80,
   "metadata": {},
   "outputs": [],
   "source": [
    "import pandas as pd\n",
    "k0_s2 = pd.read_csv(\"C:/Users/z5130037/OneDrive - UNSW/CAVSeverityResults/D0_results/InputData/0%/TRJ_Files/S000001_002conflict.csv\", delimiter=',')\n",
    "k10_s2 = pd.read_csv(\"C:/Users/z5130037/OneDrive - UNSW/CAVSeverityResults/D0_results/InputData/10%/TRJ_Files/S000002_002conflict.csv\", delimiter=',')\n",
    "k20_s2 = pd.read_csv(\"C:/Users/z5130037/OneDrive - UNSW/CAVSeverityResults/D0_results/InputData/20%/TRJ_Files/S000003_002conflict.csv\", delimiter=',')\n",
    "k30_s2 = pd.read_csv(\"C:/Users/z5130037/OneDrive - UNSW/CAVSeverityResults/D0_results/InputData/30%/TRJ_Files/S000004_002conflict.csv\", delimiter=',')\n",
    "k40_s2 = pd.read_csv(\"C:/Users/z5130037/OneDrive - UNSW/CAVSeverityResults/D0_results/InputData/40%/TRJ_Files/S000005_002conflict.csv\", delimiter=',')\n",
    "k50_s2 = pd.read_csv(\"C:/Users/z5130037/OneDrive - UNSW/CAVSeverityResults/D0_results/InputData/50%/TRJ_Files/S000006_002.csv\", delimiter=',')\n",
    "k60_s2 = pd.read_csv(\"C:/Users/z5130037/OneDrive - UNSW/CAVSeverityResults/D0_results/InputData/60%/TRJ_Files/S000007_002.csv\", delimiter=',')\n",
    "k70_s2 = pd.read_csv(\"C:/Users/z5130037/OneDrive - UNSW/CAVSeverityResults/D0_results/InputData/70%/TRJ_Files/S000008_002.csv\", delimiter=',')\n",
    "k80_s2 = pd.read_csv(\"C:/Users/z5130037/OneDrive - UNSW/CAVSeverityResults/D0_results/InputData/80%/TRJ_Files/S000009_002.csv\", delimiter=',')\n",
    "k90_s2 = pd.read_csv(\"C:/Users/z5130037/OneDrive - UNSW/CAVSeverityResults/D0_results/InputData/90%/TRJ_Files/S000010_002.csv\", delimiter=',')\n",
    "k100_s2 = pd.read_csv(\"C:/Users/z5130037/OneDrive - UNSW/CAVSeverityResults/D0_results/InputData/100%/TRJ_Files/S000011_002.csv\", delimiter=',')\n"
   ]
  },
  {
   "cell_type": "code",
   "execution_count": 81,
   "metadata": {},
   "outputs": [],
   "source": [
    "df0_s2 = k0_s2.loc[k0_s2['PET'] == 0]\n",
    "df10_s2 = k10_s2.loc[k10_s2['PET'] == 0]\n",
    "df20_s2 = k20_s2.loc[k20_s2['PET'] == 0]\n",
    "df30_s2 = k30_s2.loc[k30_s2['PET'] == 0]\n",
    "df40_s2 = k40_s2.loc[k40_s2['PET'] == 0]\n",
    "df50_s2 = k50_s2.loc[k50_s2['PET'] == 0]\n",
    "df60_s2 = k60_s2.loc[k60_s2['PET'] == 0] \n",
    "df70_s2 = k70_s2.loc[k70_s2['PET'] == 0]\n",
    "df80_s2 = k80_s2.loc[k80_s2['PET'] == 0]\n",
    "df90_s2 = k90_s2.loc[k90_s2['PET'] == 0]\n",
    "df100_s2 = k100_s2.loc[k100_s2['PET'] == 0]"
   ]
  },
  {
   "cell_type": "code",
   "execution_count": 92,
   "metadata": {},
   "outputs": [
    {
     "data": {
      "image/png": "[encoded data removed]",
      "text/plain": [
       "<Figure size 288x288 with 1 Axes>"
      ]
     },
     "metadata": {
      "needs_background": "light"
     },
     "output_type": "display_data"
    },
    {
     "data": {
      "text/plain": [
       "<Figure size 432x288 with 0 Axes>"
      ]
     },
     "metadata": {},
     "output_type": "display_data"
    }
   ],
   "source": [
    "#THIS IS FOR SEED2 & MaxS\n",
    "#https://towardsdatascience.com/a-step-by-step-guide-for-creating-advanced-python-data-visualizations-with-seaborn-matplotlib-1579d6a1a7d0\n",
    "fig, ax = plt.subplots(figsize=(4,4))\n",
    "sns.kdeplot(df0_s1[\"MaxS\"],clip=(0,100), gridsize = 200, cut =0)\n",
    "sns.kdeplot(df10_s1[\"MaxS\"],clip=(0,100), gridsize = 200, cut =0)\n",
    "sns.kdeplot(df20_s1[\"MaxS\"],clip=(0,100), gridsize = 200, cut =0)\n",
    "sns.kdeplot(df30_s1[\"MaxS\"],clip=(0,100), gridsize = 200, cut =0)\n",
    "sns.kdeplot(df40_s1[\"MaxS\"],clip=(0,100), gridsize = 200, cut =0)\n",
    "sns.kdeplot(df50_s1[\"MaxS\"],clip=(0,100), gridsize = 200, cut =0)\n",
    "sns.kdeplot(df60_s1[\"MaxS\"],clip=(0,100), gridsize = 200, cut =0)\n",
    "sns.kdeplot(df70_s1[\"MaxS\"],clip=(0,100), gridsize = 200, cut =0)\n",
    "sns.kdeplot(df80_s1[\"MaxS\"],clip=(0,100), gridsize = 200, cut =0)\n",
    "sns.kdeplot(df90_s1[\"MaxS\"],clip=(0,100), gridsize = 200, cut =0)\n",
    "sns.kdeplot(df100_s1[\"MaxS\"],clip=(0,100), gridsize = 200, cut =0)\n",
    "\n",
    "\n",
    "#sns.kdeplot(df0_s2[\"MaxS\"],clip=(0,100), gridsize = 200, cut =0, shade=True)\n",
    "#sns.kdeplot(df10_s2[\"MaxS\"],clip=(0,100), gridsize = 200, cut =0, shade=True)  \n",
    "\n",
    "#ax.legend(['0% Penetration','10% Penetration','20% Penetration','30% Penetration','40% Penetration','50% Penetration','60% Penetration','70% Penetration','80% Penetration','90% Penetration','100% Penetration'], facecolor='w')\n",
    "ax.legend(['0%','10%','20%','30%','40%','50%','60%','70%','80%','90%','100%'], facecolor='w')\n",
    "\n",
    "#ax.legend(['0%','100%'], facecolor='w')\n",
    "\n",
    "#ax.set_title('Kernel Densty estimation of DeltaS Seed1')\n",
    "ax.set_title('Seed2')\n",
    "ax.set_xlabel('MaxS')    \n",
    "plt.show()\n",
    "ax.set_title('Kernel Densty estimation of DeltaS Seed1')\n",
    "plt.savefig('C:/Users/z5130037/OneDrive - UNSW/CAVSeverityResults/D0_results/InputData/DeltaS_Seed1N.png')"
   ]
  },
  {
   "cell_type": "code",
   "execution_count": 97,
   "metadata": {},
   "outputs": [
    {
     "data": {
      "image/png": "[encoded data removed]",
      "text/plain": [
       "<Figure size 288x288 with 1 Axes>"
      ]
     },
     "metadata": {
      "needs_background": "light"
     },
     "output_type": "display_data"
    },
    {
     "data": {
      "text/plain": [
       "<Figure size 432x288 with 0 Axes>"
      ]
     },
     "metadata": {},
     "output_type": "display_data"
    }
   ],
   "source": [
    "#THIS IS FOR SEED2 & DeltaS\n",
    "#https://towardsdatascience.com/a-step-by-step-guide-for-creating-advanced-python-data-visualizations-with-seaborn-matplotlib-1579d6a1a7d0\n",
    "fig, ax = plt.subplots(figsize=(4,4))\n",
    "#sns.kdeplot(df0_s1[\"DeltaS\"],clip=(0,100), gridsize = 200, cut =0)\n",
    "#sns.kdeplot(df10_s1[\"DeltaS\"],clip=(0,100), gridsize = 200, cut =0)\n",
    "#sns.kdeplot(df20_s1[\"DeltaS\"],clip=(0,100), gridsize = 200, cut =0)\n",
    "#sns.kdeplot(df30_s1[\"DeltaS\"],clip=(0,100), gridsize = 200, cut =0)\n",
    "#sns.kdeplot(df40_s1[\"DeltaS\"],clip=(0,100), gridsize = 200, cut =0)\n",
    "#sns.kdeplot(df50_s1[\"DeltaS\"],clip=(0,100), gridsize = 200, cut =0)\n",
    "#sns.kdeplot(df60_s1[\"DeltaS\"],clip=(0,100), gridsize = 200, cut =0)\n",
    "#sns.kdeplot(df70_s1[\"DeltaS\"],clip=(0,100), gridsize = 200, cut =0)\n",
    "#sns.kdeplot(df80_s1[\"DeltaS\"],clip=(0,100), gridsize = 200, cut =0)\n",
    "#sns.kdeplot(df90_s1[\"DeltaS\"],clip=(0,100), gridsize = 200, cut =0)\n",
    "#sns.kdeplot(df100_s1[\"DeltaS\"],clip=(0,100), gridsize = 200, cut =0)\n",
    "\n",
    "\n",
    "sns.kdeplot(df0_s2[\"DeltaS\"],clip=(0,100), gridsize = 200, cut =0, shade=True)\n",
    "sns.kdeplot(df10_s2[\"DeltaS\"],clip=(0,100), gridsize = 200, cut =0, shade=True)  \n",
    "\n",
    "#ax.legend(['0% Penetration','10% Penetration','20% Penetration','30% Penetration','40% Penetration','50% Penetration','60% Penetration','70% Penetration','80% Penetration','90% Penetration','100% Penetration'], facecolor='w')\n",
    "#ax.legend(['0%','10%','20%','30%','40%','50%','60%','70%','80%','90%','100%'], facecolor='w')\n",
    "\n",
    "ax.legend(['0%','100%'], facecolor='w')\n",
    "\n",
    "#ax.set_title('Kernel Densty estimation of DeltaS Seed1')\n",
    "ax.set_title('Seed2')\n",
    "ax.set_xlabel('DeltaS')    \n",
    "plt.show()\n",
    "ax.set_title('Kernel Densty estimation of DeltaS Seed2')\n",
    "plt.savefig('C:/Users/z5130037/OneDrive - UNSW/CAVSeverityResults/D0_results/InputData/DeltaS_Seed1N.png')"
   ]
  },
  {
   "cell_type": "code",
   "execution_count": 83,
   "metadata": {},
   "outputs": [],
   "source": [
    "import pandas as pd\n",
    "k0_s3 = pd.read_csv(\"C:/Users/z5130037/OneDrive - UNSW/CAVSeverityResults/D0_results/InputData/0%/TRJ_Files/S000001_003conflict.csv\", delimiter=',')\n",
    "k10_s3 = pd.read_csv(\"C:/Users/z5130037/OneDrive - UNSW/CAVSeverityResults/D0_results/InputData/10%/TRJ_Files/S000002_003conflict.csv\", delimiter=',')\n",
    "k20_s3 = pd.read_csv(\"C:/Users/z5130037/OneDrive - UNSW/CAVSeverityResults/D0_results/InputData/20%/TRJ_Files/S000003_003conflict.csv\", delimiter=',')\n",
    "k30_s3 = pd.read_csv(\"C:/Users/z5130037/OneDrive - UNSW/CAVSeverityResults/D0_results/InputData/30%/TRJ_Files/S000004_003.csv\", delimiter=',')\n",
    "k40_s3 = pd.read_csv(\"C:/Users/z5130037/OneDrive - UNSW/CAVSeverityResults/D0_results/InputData/40%/TRJ_Files/S000005_003conflict.csv\", delimiter=',')\n",
    "k50_s3 = pd.read_csv(\"C:/Users/z5130037/OneDrive - UNSW/CAVSeverityResults/D0_results/InputData/50%/TRJ_Files/S000006_003.csv\", delimiter=',')\n",
    "k60_s3 = pd.read_csv(\"C:/Users/z5130037/OneDrive - UNSW/CAVSeverityResults/D0_results/InputData/60%/TRJ_Files/S000007_003.csv\", delimiter=',')\n",
    "k70_s3 = pd.read_csv(\"C:/Users/z5130037/OneDrive - UNSW/CAVSeverityResults/D0_results/InputData/70%/TRJ_Files/S000008_003.csv\", delimiter=',')\n",
    "k80_s3 = pd.read_csv(\"C:/Users/z5130037/OneDrive - UNSW/CAVSeverityResults/D0_results/InputData/80%/TRJ_Files/S000009_003.csv\", delimiter=',')\n",
    "k90_s3 = pd.read_csv(\"C:/Users/z5130037/OneDrive - UNSW/CAVSeverityResults/D0_results/InputData/90%/TRJ_Files/S000010_003.csv\", delimiter=',')\n",
    "k100_s3 = pd.read_csv(\"C:/Users/z5130037/OneDrive - UNSW/CAVSeverityResults/D0_results/InputData/100%/TRJ_Files/S000011_003.csv\", delimiter=',')\n",
    "\n"
   ]
  },
  {
   "cell_type": "code",
   "execution_count": 84,
   "metadata": {},
   "outputs": [],
   "source": [
    "df0_s3 = k0_s3.loc[k0_s3['PET'] == 0]\n",
    "df10_s3 = k10_s3.loc[k10_s3['PET'] == 0]\n",
    "df20_s3 = k20_s3.loc[k20_s3['PET'] == 0]\n",
    "df30_s3 = k30_s3.loc[k30_s3['PET'] == 0]\n",
    "df40_s3 = k40_s3.loc[k40_s3['PET'] == 0]\n",
    "df50_s3 = k50_s3.loc[k50_s3['PET'] == 0]\n",
    "df60_s3 = k60_s3.loc[k60_s3['PET'] == 0] \n",
    "df70_s3 = k70_s3.loc[k70_s3['PET'] == 0]\n",
    "df80_s3 = k80_s3.loc[k80_s3['PET'] == 0]\n",
    "df90_s3 = k90_s3.loc[k90_s3['PET'] == 0]\n",
    "df100_s3 = k100_s3.loc[k100_s3['PET'] == 0]"
   ]
  },
  {
   "cell_type": "code",
   "execution_count": 112,
   "metadata": {},
   "outputs": [
    {
     "name": "stdout",
     "output_type": "stream",
     "text": [
      "*****************************Break_SEED1**************************************\n",
      "(1202, 45)\n",
      "(1091, 45)\n",
      "(1186, 45)\n",
      "(1120, 45)\n",
      "(1117, 45)\n",
      "(1182, 45)\n",
      "(1190, 45)\n",
      "(1219, 45)\n",
      "(1205, 45)\n",
      "(1286, 45)\n",
      "(1332, 45)\n",
      "*****************************Break_SEED2**************************************\n",
      "(1181, 45)\n",
      "(1097, 45)\n",
      "(1158, 45)\n",
      "(1103, 45)\n",
      "(1166, 45)\n",
      "(1224, 45)\n",
      "(1203, 45)\n",
      "(1194, 45)\n",
      "(1246, 45)\n",
      "(1344, 45)\n",
      "(1339, 45)\n",
      "*****************************Break_SEED3**************************************\n",
      "(1196, 45)\n",
      "(1114, 45)\n",
      "(1149, 45)\n",
      "(1170, 45)\n",
      "(1164, 45)\n",
      "(1140, 45)\n",
      "(1205, 45)\n",
      "(1231, 45)\n",
      "(1273, 45)\n",
      "(1342, 45)\n",
      "(1439, 45)\n"
     ]
    }
   ],
   "source": [
    "#counting number of rows\n",
    "#total_rows = df0_s3.count\n",
    "#total_rows\n",
    "#count = len(df0_s3)\n",
    "#count\n",
    "\n",
    "print(\"*****************************Break_SEED1**************************************\")\n",
    "\n",
    "print(df0_s1.shape)\n",
    "print(df10_s1.shape)\n",
    "print(df20_s1.shape)\n",
    "print(df30_s1.shape)\n",
    "print(df40_s1.shape)\n",
    "print(df50_s1.shape)\n",
    "print(df60_s1.shape)\n",
    "print(df70_s1.shape)\n",
    "print(df80_s1.shape)\n",
    "print(df90_s1.shape)\n",
    "print(df100_s1.shape)\n",
    "\n",
    "print(\"*****************************Break_SEED2**************************************\")\n",
    "\n",
    "print(df0_s2.shape)\n",
    "print(df10_s2.shape)\n",
    "print(df20_s2.shape)\n",
    "print(df30_s2.shape)\n",
    "print(df40_s2.shape)\n",
    "print(df50_s2.shape)\n",
    "print(df60_s2.shape)\n",
    "print(df70_s2.shape)\n",
    "print(df80_s2.shape)\n",
    "print(df90_s2.shape)\n",
    "print(df100_s2.shape)\n",
    "\n",
    "print(\"*****************************Break_SEED3**************************************\")\n",
    "\n",
    "print(df0_s3.shape)\n",
    "print(df10_s3.shape)\n",
    "print(df20_s3.shape)\n",
    "print(df30_s3.shape)\n",
    "print(df40_s3.shape)\n",
    "print(df50_s3.shape)\n",
    "print(df60_s3.shape)\n",
    "print(df70_s3.shape)\n",
    "print(df80_s3.shape)\n",
    "print(df90_s3.shape)\n",
    "print(df100_s3.shape)\n"
   ]
  },
  {
   "cell_type": "code",
   "execution_count": 85,
   "metadata": {},
   "outputs": [
    {
     "data": {
      "image/png": "[encoded data removed]",
      "text/plain": [
       "<Figure size 288x288 with 1 Axes>"
      ]
     },
     "metadata": {
      "needs_background": "light"
     },
     "output_type": "display_data"
    },
    {
     "data": {
      "text/plain": [
       "<Figure size 432x288 with 0 Axes>"
      ]
     },
     "metadata": {},
     "output_type": "display_data"
    }
   ],
   "source": [
    "#THIS IS FOR SEED3 & MaxS for PET=0\n",
    "#https://towardsdatascience.com/a-step-by-step-guide-for-creating-advanced-python-data-visualizations-with-seaborn-matplotlib-1579d6a1a7d0\n",
    "fig, ax = plt.subplots(figsize=(4,4))\n",
    "sns.kdeplot(df0_s3[\"MaxS\"],clip=(0,100), gridsize = 200, cut =0)\n",
    "sns.kdeplot(df10_s3[\"MaxS\"],clip=(0,100), gridsize = 200, cut =0)\n",
    "sns.kdeplot(df20_s3[\"MaxS\"],clip=(0,100), gridsize = 200, cut =0)\n",
    "sns.kdeplot(df30_s3[\"MaxS\"],clip=(0,100), gridsize = 200, cut =0)\n",
    "sns.kdeplot(df40_s3[\"MaxS\"],clip=(0,100), gridsize = 200, cut =0)\n",
    "sns.kdeplot(df50_s3[\"MaxS\"],clip=(0,100), gridsize = 200, cut =0)\n",
    "sns.kdeplot(df60_s3[\"MaxS\"],clip=(0,100), gridsize = 200, cut =0)\n",
    "sns.kdeplot(df70_s3[\"MaxS\"],clip=(0,100), gridsize = 200, cut =0)\n",
    "sns.kdeplot(df80_s3[\"MaxS\"],clip=(0,100), gridsize = 200, cut =0)\n",
    "sns.kdeplot(df90_s3[\"MaxS\"],clip=(0,100), gridsize = 200, cut =0)\n",
    "sns.kdeplot(df100_s3[\"MaxS\"],clip=(0,100), gridsize = 200, cut =0)\n",
    "\n",
    "\n",
    "#sns.kdeplot(df0_s3[\"MaxS\"],clip=(0,100), gridsize = 200, cut =0, shade=True)\n",
    "#sns.kdeplot(df10_s3[\"MaxS\"],clip=(0,100), gridsize = 200, cut =0, shade=True)  \n",
    "\n",
    "#ax.legend(['0% Penetration','10% Penetration','20% Penetration','30% Penetration','40% Penetration','50% Penetration','60% Penetration','70% Penetration','80% Penetration','90% Penetration','100% Penetration'], facecolor='w')\n",
    "ax.legend(['0%','10%','20%','30%','40%','50%','60%','70%','80%','90%','100%'], facecolor='w')\n",
    "\n",
    "#ax.legend(['0%','100%'], facecolor='w')\n",
    "\n",
    "#ax.set_title('Kernel Densty estimation of DeltaS Seed1')\n",
    "ax.set_title('Seed3')\n",
    "ax.set_xlabel('MaxS')    \n",
    "plt.show()\n",
    "ax.set_title('Kernel Densty estimation of DeltaS Seed3')\n",
    "#plt.savefig('C:/Users/z5130037/OneDrive - UNSW/CAVSeverityResults/D0_results/InputData/DeltaS_Seed1N.png')"
   ]
  },
  {
   "cell_type": "code",
   "execution_count": 98,
   "metadata": {},
   "outputs": [
    {
     "data": {
      "image/png": "[encoded data removed]",
      "text/plain": [
       "<Figure size 288x288 with 1 Axes>"
      ]
     },
     "metadata": {
      "needs_background": "light"
     },
     "output_type": "display_data"
    },
    {
     "data": {
      "text/plain": [
       "Text(0.5, 1, 'Kernel Densty estimation of DeltaS Seed3')"
      ]
     },
     "execution_count": 98,
     "metadata": {},
     "output_type": "execute_result"
    }
   ],
   "source": [
    "#THIS IS FOR SEED3 & DeltaS for PET=0\n",
    "#https://towardsdatascience.com/a-step-by-step-guide-for-creating-advanced-python-data-visualizations-with-seaborn-matplotlib-1579d6a1a7d0\n",
    "fig, ax = plt.subplots(figsize=(4,4))\n",
    "#sns.kdeplot(df0_s3[\"DeltaS\"],clip=(0,100), gridsize = 200, cut =0)\n",
    "#sns.kdeplot(df10_s3[\"DeltaS\"],clip=(0,100), gridsize = 200, cut =0)\n",
    "#sns.kdeplot(df20_s3[\"DeltaS\"],clip=(0,100), gridsize = 200, cut =0)\n",
    "#sns.kdeplot(df30_s3[\"DeltaS\"],clip=(0,100), gridsize = 200, cut =0)\n",
    "#sns.kdeplot(df40_s3[\"DeltaS\"],clip=(0,100), gridsize = 200, cut =0)\n",
    "#sns.kdeplot(df50_s3[\"DeltaS\"],clip=(0,100), gridsize = 200, cut =0)\n",
    "#sns.kdeplot(df60_s3[\"DeltaS\"],clip=(0,100), gridsize = 200, cut =0)\n",
    "#sns.kdeplot(df70_s3[\"DeltaS\"],clip=(0,100), gridsize = 200, cut =0)\n",
    "#sns.kdeplot(df80_s3[\"DeltaS\"],clip=(0,100), gridsize = 200, cut =0)\n",
    "#sns.kdeplot(df90_s3[\"DeltaS\"],clip=(0,100), gridsize = 200, cut =0)\n",
    "#sns.kdeplot(df100_s3[\"DeltaS\"],clip=(0,100), gridsize = 200, cut =0)\n",
    "\n",
    "\n",
    "sns.kdeplot(df0_s3[\"DeltaS\"],clip=(0,100), gridsize = 200, cut =0, shade=True)\n",
    "sns.kdeplot(df10_s3[\"DeltaS\"],clip=(0,100), gridsize = 200, cut =0, shade=True)  \n",
    "\n",
    "#ax.legend(['0% Penetration','10% Penetration','20% Penetration','30% Penetration','40% Penetration','50% Penetration','60% Penetration','70% Penetration','80% Penetration','90% Penetration','100% Penetration'], facecolor='w')\n",
    "#ax.legend(['0%','10%','20%','30%','40%','50%','60%','70%','80%','90%','100%'], facecolor='w')\n",
    "\n",
    "ax.legend(['0%','100%'], facecolor='w')\n",
    "\n",
    "#ax.set_title('Kernel Densty estimation of DeltaS Seed1')\n",
    "ax.set_title('Seed3')\n",
    "ax.set_xlabel('DeltaS')    \n",
    "plt.show()\n",
    "ax.set_title('Kernel Densty estimation of DeltaS Seed3')\n",
    "#plt.savefig('C:/Users/z5130037/OneDrive - UNSW/CAVSeverityResults/D0_results/InputData/DeltaS_Seed1N.png')"
   ]
  },
  {
   "cell_type": "markdown",
   "metadata": {},
   "source": [
    "#just check if all the PET values are 0 or not \n",
    "%time finaldf1 = pd.DataFrame({'0%':df0_s1.PET,'10%':df10_s1.PET,'20%':df20_s1.PET,'30%':df30_s1.PET,'40%':df40_s1.PET,'50%':df50_s1.PET,'60%':df60_s1.PET,'70%':df70_s1.PET,'80%':df80_s1.PET,'90%':df90_s1.PET,'100%':df100_s1.PET})\n",
    "%time finaldf1.to_csv(r\"C:/Users/z5130037/OneDrive - UNSW/CAVSeverityResults/D0_results/InputData/SSAMConsolidated/PET_0_Seed1.csv\")\n",
    "\n",
    "%time finaldf2 = pd.DataFrame({'0%':df0_s2.PET,'10%':df10_s2.PET,'20%':df20_s2.PET,'30%':df30_s2.PET,'40%':df40_s2.PET,'50%':df50_s2.PET,'60%':df60_s2.PET,'70%':df70_s2.PET,'80%':df80_s2.PET,'90%':df90_s2.PET,'100%':df100_s2.PET})\n",
    "%time finaldf2.to_csv(r\"C:/Users/z5130037/OneDrive - UNSW/CAVSeverityResults/D0_results/InputData/SSAMConsolidated/PET_0_Seed2.csv\")\n",
    "\n",
    "%time finaldf3 = pd.DataFrame({'0%':df0_s3.PET,'10%':df10_s3.PET,'20%':df20_s3.PET,'30%':df30_s3.PET,'40%':df40_s3.PET,'50%':df50_s3.PET,'60%':df60_s3.PET,'70%':df70_s3.PET,'80%':df80_s3.PET,'90%':df90_s3.PET,'100%':df100_s3.PET})\n",
    "%time finaldf3.to_csv(r\"C:/Users/z5130037/OneDrive - UNSW/CAVSeverityResults/D0_results/InputData/SSAMConsolidated/PET_0_Seed3.csv\")\n",
    "print (finaldf3)"
   ]
  },
  {
   "cell_type": "markdown",
   "metadata": {},
   "source": [
    "# Next section is for combining/ transposing the DeltaS values"
   ]
  },
  {
   "cell_type": "markdown",
   "metadata": {},
   "source": [
    "%time finaldf1 = pd.DataFrame({'0%':df0_s1.DeltaS,'10%':df10_s1.DeltaS,'20%':df20_s1.DeltaS,'30%':df30_s1.DeltaS,'40%':df40_s1.DeltaS,'50%':df50_s1.DeltaS,'60%':df60_s1.DeltaS,'70%':df70_s1.DeltaS,'80%':df80_s1.DeltaS,'90%':df90_s1.DeltaS,'100%':df100_s1.DeltaS})\n",
    "%time finaldf1.to_csv(r\"C:/Users/z5130037/OneDrive - UNSW/CAVSeverityResults/D0_results/InputData/SSAMConsolidated/DeltaS_PET0_Seed1.csv\")\n",
    "\n",
    "%time finaldf2 = pd.DataFrame({'0%':df0_s2.DeltaS,'10%':df10_s2.DeltaS,'20%':df20_s2.DeltaS,'30%':df30_s2.DeltaS,'40%':df40_s2.DeltaS,'50%':df50_s2.DeltaS,'60%':df60_s2.DeltaS,'70%':df70_s2.DeltaS,'80%':df80_s2.DeltaS,'90%':df90_s2.DeltaS,'100%':df100_s2.DeltaS})\n",
    "%time finaldf2.to_csv(r\"C:/Users/z5130037/OneDrive - UNSW/CAVSeverityResults/D0_results/InputData/SSAMConsolidated/DeltaS_PET0_Seed2.csv\")\n",
    "\n",
    "%time finaldf3 = pd.DataFrame({'0%':df0_s3.DeltaS,'10%':df10_s3.DeltaS,'20%':df20_s3.DeltaS,'30%':df30_s3.DeltaS,'40%':df40_s3.DeltaS,'50%':df50_s3.DeltaS,'60%':df60_s3.DeltaS,'70%':df70_s3.DeltaS,'80%':df80_s3.DeltaS,'90%':df90_s3.DeltaS,'100%':df100_s3.DeltaS})\n",
    "%time finaldf3.to_csv(r\"C:/Users/z5130037/OneDrive - UNSW/CAVSeverityResults/D0_results/InputData/SSAMConsolidated/DeltaS_0_Seed3.csv\")\n"
   ]
  },
  {
   "cell_type": "markdown",
   "metadata": {},
   "source": [
    "# Next section is for combining/ transposing the MaxS values"
   ]
  },
  {
   "cell_type": "markdown",
   "metadata": {},
   "source": [
    "%time finaldf1 = pd.DataFrame({'0%':df0_s1.MaxS,'10%':df10_s1.MaxS,'20%':df20_s1.MaxS,'30%':df30_s1.MaxS,'40%':df40_s1.MaxS,'50%':df50_s1.MaxS,'60%':df60_s1.MaxS,'70%':df70_s1.MaxS,'80%':df80_s1.MaxS,'90%':df90_s1.MaxS,'100%':df100_s1.MaxS})\n",
    "%time finaldf1.to_csv(r\"C:/Users/z5130037/OneDrive - UNSW/CAVSeverityResults/D0_results/InputData/SSAMConsolidated/MaxS_PET0_Seed1.csv\")\n",
    "\n",
    "%time finaldf2 = pd.DataFrame({'0%':df0_s2.MaxS,'10%':df10_s2.MaxS,'20%':df20_s2.MaxS,'30%':df30_s2.MaxS,'40%':df40_s2.MaxS,'50%':df50_s2.MaxS,'60%':df60_s2.MaxS,'70%':df70_s2.MaxS,'80%':df80_s2.MaxS,'90%':df90_s2.MaxS,'100%':df100_s2.MaxS})\n",
    "%time finaldf2.to_csv(r\"C:/Users/z5130037/OneDrive - UNSW/CAVSeverityResults/D0_results/InputData/SSAMConsolidated/MaxS_PET0_Seed2.csv\")\n",
    "\n",
    "%time finaldf3 = pd.DataFrame({'0%':df0_s3.MaxS,'10%':df10_s3.MaxS,'20%':df20_s3.MaxS,'30%':df30_s3.MaxS,'40%':df40_s3.MaxS,'50%':df50_s3.MaxS,'60%':df60_s3.MaxS,'70%':df70_s3.MaxS,'80%':df80_s3.MaxS,'90%':df90_s3.MaxS,'100%':df100_s3.MaxS})\n",
    "%time finaldf3.to_csv(r\"C:/Users/z5130037/OneDrive - UNSW/CAVSeverityResults/D0_results/InputData/SSAMConsolidated/MaxS_PET0_Seed3.csv\")\n"
   ]
  },
  {
   "cell_type": "code",
   "execution_count": null,
   "metadata": {},
   "outputs": [],
   "source": []
  }
 ],
 "metadata": {
  "kernelspec": {
   "display_name": "Python 3",
   "language": "python",
   "name": "python3"
  },
  "language_info": {
   "codemirror_mode": {
    "name": "ipython",
    "version": 3
   },
   "file_extension": ".py",
   "mimetype": "text/x-python",
   "name": "python",
   "nbconvert_exporter": "python",
   "pygments_lexer": "ipython3",
   "version": "3.7.3"
  }
 },
 "nbformat": 4,
 "nbformat_minor": 2
}
