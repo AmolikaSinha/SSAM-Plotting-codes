{
 "cells": [
  {
   "cell_type": "code",
   "execution_count": 1,
   "metadata": {},
   "outputs": [
    {
     "data": {
      "text/plain": [
       "<Figure size 640x480 with 2 Axes>"
      ]
     },
     "metadata": {},
     "output_type": "display_data"
    }
   ],
   "source": [
    "import matplotlib.pyplot as plt\n",
    "from matplotlib import colors\n",
    "import numpy as np\n",
    "from random import randint\n",
    "\n",
    "# x and y coordinates\n",
    "x = np.array(range(10))\n",
    "y = np.array(range(10,15))\n",
    "data = np.zeros((len(y),len(x)))\n",
    "\n",
    "# Generate some discrete data (1, 2 or 3) for each (x, y) pair\n",
    "for i,yy in enumerate(y):\n",
    "    for j, xx in enumerate(x):\n",
    "        data[i,j] = randint(1,3)\n",
    "\n",
    "# Map 1, 2 and 3 to 'Red', 'Green' qnd 'Blue', respectively\n",
    "colormap = colors.ListedColormap(['Red', 'Green', 'Blue'])\n",
    "colorbar_ticklabels = ['1', '2', '3']\n",
    "\n",
    "# Use matshow to create a heatmap\n",
    "fig, ax = plt.subplots()\n",
    "ms = ax.matshow(data, cmap = colormap, vmin=data.min() - 0.5, vmax=data.max() + 0.5, origin = 'lower')\n",
    "\n",
    "# x and y axis ticks\n",
    "ax.set_xticklabels([str(xx) for xx in x])\n",
    "ax.set_yticklabels([str(yy) for yy in y])\n",
    "ax.xaxis.tick_bottom()\n",
    "\n",
    "# Put the x- qnd y-axis ticks at the middle of each cell \n",
    "ax.set_xticks(np.arange(data.shape[1]), minor = False)\n",
    "ax.set_yticks(np.arange(data.shape[0]), minor = False)\n",
    "\n",
    "# Set custom ticks and ticklabels for color bar\n",
    "cbar = fig.colorbar(ms,ticks = np.arange(np.min(data),np.max(data)+1))\n",
    "cbar.ax.set_yticklabels(colorbar_ticklabels)\n",
    "\n",
    "plt.show()"
   ]
  },
  {
   "cell_type": "code",
   "execution_count": 3,
   "metadata": {},
   "outputs": [
    {
     "name": "stderr",
     "output_type": "stream",
     "text": [
      "C:\\Users\\z5130037\\AppData\\Local\\Continuum\\anaconda3\\lib\\site-packages\\ipykernel_launcher.py:22: MatplotlibDeprecationWarning: The 'normed' parameter of hist2d() has been renamed 'density' since Matplotlib 3.1; support for the old name will be dropped in 3.3.\n"
     ]
    },
    {
     "data": {
      "image/png": "[encoded data removed]",
      "text/plain": [
       "<Figure size 432x288 with 2 Axes>"
      ]
     },
     "metadata": {
      "needs_background": "light"
     },
     "output_type": "display_data"
    }
   ],
   "source": [
    "import numpy as np\n",
    "import matplotlib\n",
    "import matplotlib.pyplot as plt\n",
    "\n",
    "# Define numbers of generated data points and bins per axis.\n",
    "N_numbers = 100000\n",
    "N_bins = 100\n",
    "\n",
    "# set random seed \n",
    "np.random.seed(0)\n",
    "\n",
    "# Generate 2D normally distributed numbers.\n",
    "x, y = np.random.multivariate_normal(\n",
    "        mean=[0.0, 0.0],      # mean\n",
    "        cov=[[1.0, 0.4],\n",
    "             [0.4, 0.25]],    # covariance matrix\n",
    "        size=N_numbers\n",
    "        ).T                   # transpose to get columns\n",
    "\n",
    "\n",
    "# Construct 2D histogram from data using the 'plasma' colormap\n",
    "plt.hist2d(x, y, bins=N_bins, normed=False, cmap='plasma')\n",
    "\n",
    "# Plot a colorbar with label.\n",
    "cb = plt.colorbar()\n",
    "cb.set_label('Number of entries')\n",
    "\n",
    "# Add title and labels to plot.\n",
    "plt.title('Heatmap of 2D normally distributed data points')\n",
    "plt.xlabel('x axis')\n",
    "plt.ylabel('y axis')\n",
    "\n",
    "# Show the plot.\n",
    "plt.show()"
   ]
  },
  {
   "cell_type": "code",
   "execution_count": null,
   "metadata": {},
   "outputs": [],
   "source": [
    "import numpy as np\n",
    "import seaborn as sns\n",
    "Seed_headway = [\"Seed1\", \"Seed2\", \"Seed3\",\n",
    "           \"30%\", \"40%\", \"50%\", \"60%\", \"70%\", \"80%\", \"90%\", \"100%\"]\n",
    "\n",
    "CAVPenetration = [\"0%\", \"10%\", \"20%\",\n",
    "           \"30%\", \"40%\", \"50%\", \"60%\", \"70%\", \"80%\", \"90%\", \"100%\"]\n",
    "frequency = np.array([[7333, 3804, 3129, 2466, 2496, 2715, 2884, 2937, 3145, 3371, 3594],\n",
    "                    [7354, 3551, 2796, 2480, 2511, 2704, 2891, 2990, 3181, 3475, 3706],  \n",
    "                    [7563, 3708, 2804, 2560, 2592, 2664, 2785, 2995, 3311, 3570, 3809]])\n"
   ]
  },
  {
   "cell_type": "code",
   "execution_count": 11,
   "metadata": {},
   "outputs": [],
   "source": [
    "import numpy as np"
   ]
  },
  {
   "cell_type": "code",
   "execution_count": 12,
   "metadata": {},
   "outputs": [
    {
     "data": {
      "text/plain": [
       "array([[7333, 3804, 3129, 2466, 2496, 2715, 2884, 2937, 3145, 3371, 3594],\n",
       "       [7354, 3551, 2796, 2480, 2511, 2704, 2891, 2990, 3181, 3475, 3706],\n",
       "       [7563, 3708, 2804, 2560, 2592, 2664, 2785, 2995, 3311, 3570, 3809]])"
      ]
     },
     "execution_count": 12,
     "metadata": {},
     "output_type": "execute_result"
    }
   ],
   "source": [
    "frequency = np.array([[7333, 3804, 3129, 2466, 2496, 2715, 2884, 2937, 3145, 3371, 3594],\n",
    "                    [7354, 3551, 2796, 2480, 2511, 2704, 2891, 2990, 3181, 3475, 3706],  \n",
    "                    [7563, 3708, 2804, 2560, 2592, 2664, 2785, 2995, 3311, 3570, 3809]])\n",
    "frequency"
   ]
  },
  {
   "cell_type": "code",
   "execution_count": 13,
   "metadata": {},
   "outputs": [
    {
     "ename": "NameError",
     "evalue": "name 'numpy' is not defined",
     "output_type": "error",
     "traceback": [
      "\u001b[1;31m---------------------------------------------------------------------------\u001b[0m",
      "\u001b[1;31mNameError\u001b[0m                                 Traceback (most recent call last)",
      "\u001b[1;32m<ipython-input-13-9ee709f049c2>\u001b[0m in \u001b[0;36m<module>\u001b[1;34m\u001b[0m\n\u001b[1;32m----> 1\u001b[1;33m \u001b[0mnumpy\u001b[0m\u001b[1;33m.\u001b[0m\u001b[0msavetxt\u001b[0m\u001b[1;33m(\u001b[0m\u001b[1;34m\"C:\\\\Users\\\\z5130037\\\\Desktop\\\\foo.csv\"\u001b[0m\u001b[1;33m,\u001b[0m \u001b[0mfrequency\u001b[0m\u001b[1;33m,\u001b[0m \u001b[0mdelimiter\u001b[0m\u001b[1;33m=\u001b[0m\u001b[1;34m\",\"\u001b[0m\u001b[1;33m)\u001b[0m\u001b[1;33m\u001b[0m\u001b[1;33m\u001b[0m\u001b[0m\n\u001b[0m",
      "\u001b[1;31mNameError\u001b[0m: name 'numpy' is not defined"
     ]
    }
   ],
   "source": [
    "numpy.savetxt(\"C:\\\\Users\\\\z5130037\\\\Desktop\\\\foo.csv\", frequency, delimiter=\",\")"
   ]
  },
  {
   "cell_type": "code",
   "execution_count": 14,
   "metadata": {},
   "outputs": [],
   "source": [
    "frequency.tofile('C:\\\\Users\\\\z5130037\\\\Desktop\\\\foo.csv',sep=',',format='%10.5f')"
   ]
  },
  {
   "cell_type": "code",
   "execution_count": null,
   "metadata": {},
   "outputs": [],
   "source": []
  }
 ],
 "metadata": {
  "kernelspec": {
   "display_name": "Python 3",
   "language": "python",
   "name": "python3"
  },
  "language_info": {
   "codemirror_mode": {
    "name": "ipython",
    "version": 3
   },
   "file_extension": ".py",
   "mimetype": "text/x-python",
   "name": "python",
   "nbconvert_exporter": "python",
   "pygments_lexer": "ipython3",
   "version": "3.7.3"
  }
 },
 "nbformat": 4,
 "nbformat_minor": 2
}
